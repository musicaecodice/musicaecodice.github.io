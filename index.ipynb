{
 "cells": [
  {
   "cell_type": "markdown",
   "id": "3f4989c8",
   "metadata": {},
   "source": [
    "### Andrea Vigani\n",
    "# Musica e codice\n",
    "**Appunti di informatica musicale**\n",
    "\n",
    "Supporto didattico ai corsi - Conservatorio G.Verdi di Milano - Università Statale di Milano - Politecnico di Milano\n",
    "\n",
    "* [andrea.vigani@consmilano.it](mailto:andrea.vigani@consmilano.it)\n",
    "* [andrea.vigani@unimi.it](mailto:andrea.vigani@unimi.it)\n",
    "***\n",
    "* [Electroacoustic Music Composition [POLIMI]](https://github.com/musicaecodice/EMC.git) \n",
    "* [Sistemi e linguaggi di programmazione per l'audio e le applicazioni musicali 2 [Biennio]](https://github.com/musicaecodice/MAI.git)\n",
    "***"
   ]
  }
 ],
 "metadata": {
  "kernelspec": {
   "display_name": "Python 3 (ipykernel)",
   "language": "python",
   "name": "python3"
  },
  "language_info": {
   "codemirror_mode": {
    "name": "ipython",
    "version": 3
   },
   "file_extension": ".py",
   "mimetype": "text/x-python",
   "name": "python",
   "nbconvert_exporter": "python",
   "pygments_lexer": "ipython3",
   "version": "3.12.4"
  }
 },
 "nbformat": 4,
 "nbformat_minor": 5
}
